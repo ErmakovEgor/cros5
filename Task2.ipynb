{
 "cells": [
  {
   "cell_type": "markdown",
   "metadata": {},
   "source": [
    "# Задание 2"
   ]
  },
  {
   "cell_type": "markdown",
   "metadata": {},
   "source": [
    "**Создать столбчатую диаграмму для отображения сравнительных показателей экономического развития России. Уровень экономического развития определяют:**\n",
    "\n",
    "* **уровень ВВП;**"
   ]
  },
  {
   "cell_type": "code",
   "execution_count": 1,
   "metadata": {},
   "outputs": [],
   "source": [
    "import matplotlib.pyplot as plt\n",
    "import numpy as np\n",
    "from matplotlib.ticker import (MultipleLocator, FormatStrFormatter,\n",
    "AutoMinorLocator)\n",
    "import matplotlib.colors as mcolors"
   ]
  },
  {
   "cell_type": "code",
   "execution_count": 6,
   "metadata": {},
   "outputs": [
    {
     "data": {
      "text/plain": [
       "<matplotlib.legend.Legend at 0x20e219ed6d0>"
      ]
     },
     "execution_count": 6,
     "metadata": {},
     "output_type": "execute_result"
    },
    {
     "data": {
      "image/png": "[encoded data removed]",
      "text/plain": [
       "<Figure size 432x288 with 1 Axes>"
      ]
     },
     "metadata": {
      "needs_background": "light"
     },
     "output_type": "display_data"
    }
   ],
   "source": [
    "CHI = [67765, 65432, 61200]\n",
    "USA = [39450, 38450, 36700]\n",
    "IND = [41430, 40163, 37905]\n",
    "JAP = [43680, 44990, 45553]\n",
    "GER = [51350, 52400, 47000]\n",
    "RUS = [25987, 26138, 25411]\n",
    "\n",
    "width = 0.1\n",
    "\n",
    "x = np.arange(3)\n",
    "\n",
    "fig, ax = plt.subplots()\n",
    "rects1 = ax.bar(x - width*2, CHI, width, label='CHI')\n",
    "rects2 = ax.bar(x - width, USA, width, label='USA')\n",
    "rects3 = ax.bar(x , IND, width, label='IND')\n",
    "rects4 = ax.bar(x + width, JAP, width, label='JAP')\n",
    "rects5 = ax.bar(x + width*2, GER, width, label='GER')\n",
    "rects6 = ax.bar(x + width*2, RUS, width, label='RUS')\n",
    "\n",
    "ax.set_title('Уровень ВВП')\n",
    "ax.set_xticks(x)\n",
    "ax.set_xticklabels(('2015', '2017', '2019'))\n",
    "\n",
    "ax.legend()"
   ]
  },
  {
   "cell_type": "code",
   "execution_count": null,
   "metadata": {},
   "outputs": [],
   "source": []
  }
 ],
 "metadata": {
  "kernelspec": {
   "display_name": "Python 3",
   "language": "python",
   "name": "python3"
  },
  "language_info": {
   "codemirror_mode": {
    "name": "ipython",
    "version": 3
   },
   "file_extension": ".py",
   "mimetype": "text/x-python",
   "name": "python",
   "nbconvert_exporter": "python",
   "pygments_lexer": "ipython3",
   "version": "3.8.8"
  }
 },
 "nbformat": 4,
 "nbformat_minor": 4
}
